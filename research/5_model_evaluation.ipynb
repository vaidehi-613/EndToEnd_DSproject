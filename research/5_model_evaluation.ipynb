{
 "cells": [
  {
   "cell_type": "code",
   "execution_count": 1,
   "metadata": {},
   "outputs": [],
   "source": [
    "import os\n",
    "os.environ[\"MLFLOW_TRACKING_URI\"] =\"https://dagshub.com/vaidehipawar755/EndToEnd_DSproject.mlflow\"\n",
    "os.environ['MLFLOW_TRACKING_USERNAME'] = 'vaidehipawar755'\n",
    "os.environ['MLFLOW_TRACKING_PASSWORD'] = '8eea17d116d77cf9c97b571260725d41760dcebd'"
   ]
  },
  {
   "cell_type": "code",
   "execution_count": 2,
   "metadata": {},
   "outputs": [
    {
     "data": {
      "text/plain": [
       "'/Users/vaidehipawar/Desktop/mlops/EndToEnd_DSproject/research'"
      ]
     },
     "execution_count": 2,
     "metadata": {},
     "output_type": "execute_result"
    }
   ],
   "source": [
    "import os\n",
    "%pwd"
   ]
  },
  {
   "cell_type": "code",
   "execution_count": 3,
   "metadata": {},
   "outputs": [
    {
     "data": {
      "text/plain": [
       "'/Users/vaidehipawar/Desktop/mlops/EndToEnd_DSproject'"
      ]
     },
     "execution_count": 3,
     "metadata": {},
     "output_type": "execute_result"
    }
   ],
   "source": [
    "os.chdir('../')\n",
    "%pwd"
   ]
  },
  {
   "cell_type": "code",
   "execution_count": null,
   "metadata": {},
   "outputs": [],
   "source": [
    "from dataclasses import dataclass\n",
    "from pathlib import Path\n",
    "\n",
    "@dataclass\n",
    "class ModelEvaluationConfig:\n",
    "    root_dir: Path\n",
    "    test_data_path: Path\n",
    "    model_path: Path\n",
    "    all_params: dict\n",
    "    metric_file_name: Path\n",
    "    target_column: str\n",
    "    mlflow_uri: str\n"
   ]
  },
  {
   "cell_type": "code",
   "execution_count": null,
   "metadata": {},
   "outputs": [],
   "source": [
    "\n",
    "from src.datascience.constants import *\n",
    "from src.datascience.utils.common import read_yaml, create_directories, save_json"
   ]
  },
  {
   "cell_type": "code",
   "execution_count": 13,
   "metadata": {},
   "outputs": [],
   "source": [
    "class ConfigurationManager:\n",
    "    def __init__(self, config_filepath = CONFIG_FILE_PATH,\n",
    "                 params_filepath = PARAMS_FILE_PATH,\n",
    "                 schema_filepath = SCHEMA_FILE_PATH):\n",
    "        \n",
    "        self.config = read_yaml(config_filepath)  ## Contains paths and URLs (e.g., from config.yaml)\n",
    "        self.params = read_yaml(params_filepath)  ## Training hyperparameters (e.g., params.yaml)\n",
    "        self.schema = read_yaml(schema_filepath)  ## Data schema for validation (e.g., schema.yaml)\n",
    "\n",
    "        create_directories([self.config.artifacts_root])\n",
    "\n",
    "    def get_model_evaluation_config(self)-> ModelEvaluationConfig: \n",
    "        config = self.config.model_evaluation\n",
    "        params = self.params.ElasticNet\n",
    "        schema = self.schema.TARGET_COLUMN\n",
    "\n",
    "        create_directories([config.root_dir])\n",
    "\n",
    "\n",
    "        model_evaluation_config = ModelEvaluationConfig(\n",
    "            root_dir=config.root_dir,\n",
    "            test_data_path = config.test_data_path,\n",
    "            model_path = config.model_path,\n",
    "            all_params = params,\n",
    "            metric_file_name= config.metric_file_name,\n",
    "            target_column = schema.name,\n",
    "            mlflow_uri ='https://dagshub.com/vaidehipawar755/EndToEnd_DSproject.mlflow'\n",
    "        )\n",
    "\n",
    "        return model_evaluation_config"
   ]
  },
  {
   "cell_type": "code",
   "execution_count": 14,
   "metadata": {},
   "outputs": [],
   "source": [
    "import os\n",
    "import pandas as pd\n",
    "from sklearn.metrics import mean_squared_error, mean_absolute_error, r2_score\n",
    "from urllib.parse import urlparse\n",
    "import mlflow\n",
    "import mlflow.sklearn\n",
    "import numpy as np\n",
    "import joblib\n"
   ]
  },
  {
   "cell_type": "code",
   "execution_count": 27,
   "metadata": {},
   "outputs": [],
   "source": [
    "from src.datascience.utils.common import save_json\n",
    "\n",
    "class ModelEvaluation:\n",
    "    def __init__(self, config:  ModelEvaluationConfig):\n",
    "        self.config = config\n",
    "    \n",
    "    def eval_metrics(self, actual, pred):\n",
    "        mse = mean_squared_error(actual, pred)\n",
    "        rmse = np.sqrt(mse)\n",
    "        mae = mean_absolute_error(actual, pred)\n",
    "        r2 = r2_score(actual, pred)\n",
    "        return rmse, mae, r2\n",
    "\n",
    "\n",
    "    def log_into_mlflow(self):\n",
    "        test_data = pd.read_csv(self.config.test_data_path)\n",
    "        model = joblib.load(self.config.model_path)\n",
    "\n",
    "        test_x = test_data.drop([self.config.target_column], axis=1)\n",
    "        test_y = test_data[self.config.target_column]\n",
    "\n",
    "        mlflow.set_registry_uri(self.config.mlflow_uri)\n",
    "        tracking_uri_type_store = urlparse(mlflow.get_tracking_uri()).scheme\n",
    "\n",
    "\n",
    "        with mlflow.start_run():\n",
    "            predicted_qualities = model.predict(test_x)\n",
    "\n",
    "            rmse, mae, r2 = self.eval_metrics(test_y, predicted_qualities)\n",
    "\n",
    "            ## saving metrics as local\n",
    "            scores = {'rmse': rmse, \"mae\": mae, \"r2\": r2}\n",
    "            save_json(path = Path(self.config.metric_file_name), data = scores)\n",
    "\n",
    "            mlflow.log_params(self.config.all_params)\n",
    "\n",
    "            mlflow.log_metric('rmse', rmse)\n",
    "            mlflow.log_metric('r2', r2)\n",
    "            mlflow.log_metric('mae', mae)\n",
    "\n",
    "            # model registry does not work with file store\n",
    "\n",
    "            if tracking_uri_type_store != 'file':\n",
    "\n",
    "                ## Register the model\n",
    "                mlflow.sklearn.log_model(model,\"model\", registered_model_name='ElasticNetModel')\n",
    "            else:\n",
    "                mlflow.sklearn.log_model(model,\"model\")\n"
   ]
  },
  {
   "cell_type": "code",
   "execution_count": 28,
   "metadata": {},
   "outputs": [
    {
     "name": "stdout",
     "output_type": "stream",
     "text": [
      "[2025-06-04 16:59:14,144: INFO: common: yaml file: config/config.yaml loaded successfully]\n",
      "[2025-06-04 16:59:14,146: INFO: common: yaml file: params.yaml loaded successfully]\n",
      "[2025-06-04 16:59:14,148: INFO: common: yaml file: schema.yaml loaded successfully]\n",
      "[2025-06-04 16:59:14,149: INFO: common: created directory at: artifacts]\n",
      "[2025-06-04 16:59:14,150: INFO: common: created directory at: artifacts/model_evaluation]\n",
      "[2025-06-04 16:59:14,314: INFO: common: json file saved at: artifacts/model_evaluation/metrics.json]\n"
     ]
    },
    {
     "name": "stderr",
     "output_type": "stream",
     "text": [
      "\u001b[31m2025/06/04 16:59:17 WARNING mlflow.models.model: Model logged without a signature and input example. Please set `input_example` parameter when logging the model to auto infer the model signature.\u001b[0m\n",
      "Successfully registered model 'ElasticNetModel'.\n",
      "2025/06/04 16:59:20 INFO mlflow.store.model_registry.abstract_store: Waiting up to 300 seconds for model version to finish creation. Model name: ElasticNetModel, version 1\n",
      "Created version '1' of model 'ElasticNetModel'.\n"
     ]
    },
    {
     "name": "stdout",
     "output_type": "stream",
     "text": [
      "🏃 View run peaceful-wren-502 at: https://dagshub.com/vaidehipawar755/EndToEnd_DSproject.mlflow/#/experiments/0/runs/7ccf43350ade4bcd80cfe7d96b337528\n",
      "🧪 View experiment at: https://dagshub.com/vaidehipawar755/EndToEnd_DSproject.mlflow/#/experiments/0\n"
     ]
    }
   ],
   "source": [
    "try:\n",
    "    config = ConfigurationManager()\n",
    "    model_evaluation_config = config.get_model_evaluation_config()\n",
    "    model_evaluation= ModelEvaluation(config=model_evaluation_config)\n",
    "    model_evaluation.log_into_mlflow()\n",
    "except Exception as e:\n",
    "    raise e"
   ]
  },
  {
   "cell_type": "markdown",
   "metadata": {},
   "source": []
  }
 ],
 "metadata": {
  "kernelspec": {
   "display_name": "Python 3",
   "language": "python",
   "name": "python3"
  },
  "language_info": {
   "codemirror_mode": {
    "name": "ipython",
    "version": 3
   },
   "file_extension": ".py",
   "mimetype": "text/x-python",
   "name": "python",
   "nbconvert_exporter": "python",
   "pygments_lexer": "ipython3",
   "version": "3.10.0"
  }
 },
 "nbformat": 4,
 "nbformat_minor": 2
}
